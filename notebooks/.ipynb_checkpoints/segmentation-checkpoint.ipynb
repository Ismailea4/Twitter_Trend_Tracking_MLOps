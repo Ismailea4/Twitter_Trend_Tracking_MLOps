{
 "cells": [
  {
   "cell_type": "code",
   "execution_count": 1,
   "id": "18f5e734",
   "metadata": {},
   "outputs": [],
   "source": [
    "import pandas as pd\n",
    "\n",
    "tweet_data = pd.read_csv('../processing/cleaned_tweet_data.csv')\n",
    "user_data = pd.read_csv('../processing/cleaned_user_data.csv')"
   ]
  },
  {
   "cell_type": "code",
   "execution_count": 11,
   "id": "08db1d67",
   "metadata": {},
   "outputs": [
    {
     "data": {
      "text/plain": [
       "Index(['tweet_id', 'company', 'date', 'username', 'text', 'replies', 'reposts',\n",
       "       'likes', 'bookmarks', 'views', 'comment_count', 'total_engagement',\n",
       "       'main_sentiment', 'avg_comment_sentiment'],\n",
       "      dtype='object')"
      ]
     },
     "execution_count": 11,
     "metadata": {},
     "output_type": "execute_result"
    }
   ],
   "source": [
    "tweet_data.columns"
   ]
  },
  {
   "cell_type": "code",
   "execution_count": 12,
   "id": "cd0de514",
   "metadata": {},
   "outputs": [
    {
     "data": {
      "text/plain": [
       "Index(['company', 'username', 'text', 'total_comments', 'total_replies',\n",
       "       'total_likes', 'sentiments', 'avg_sentiment'],\n",
       "      dtype='object')"
      ]
     },
     "execution_count": 12,
     "metadata": {},
     "output_type": "execute_result"
    }
   ],
   "source": [
    "user_data.columns"
   ]
  },
  {
   "cell_type": "code",
   "execution_count": 13,
   "id": "0bfca53e",
   "metadata": {},
   "outputs": [
    {
     "data": {
      "text/plain": [
       "date\n",
       "2025-04-14    45\n",
       "2025-04-11    45\n",
       "2025-04-09    44\n",
       "2025-04-15    42\n",
       "2025-04-16    39\n",
       "2025-04-10    36\n",
       "2025-04-18    31\n",
       "2025-04-17    29\n",
       "2025-04-13    23\n",
       "2025-04-12    20\n",
       "Name: count, dtype: int64"
      ]
     },
     "execution_count": 13,
     "metadata": {},
     "output_type": "execute_result"
    }
   ],
   "source": [
    "tweet_data['date'].value_counts()"
   ]
  },
  {
   "cell_type": "code",
   "execution_count": null,
   "id": "66ba0a5a",
   "metadata": {},
   "outputs": [],
   "source": [
    "!pip install transformers"
   ]
  },
  {
   "cell_type": "code",
   "execution_count": null,
   "id": "809211b8",
   "metadata": {},
   "outputs": [],
   "source": [
    "from transformers import pipeline\n",
    "import pandas as pd\n",
    "\n",
    "# Load model\n",
    "classifier = pipeline(\n",
    "    \"sentiment-analysis\",\n",
    "    model=\"distilbert-base-uncased-finetuned-sst-2-english\",\n",
    "    revision=\"714eb0f\"\n",
    ")\n",
    "\n",
    "# Load your dataset\n",
    "df = user_data.copy()\n",
    "\n",
    "# Apply sentiment prediction\n",
    "df['bert_sentiment'] = df['text'].apply(lambda x: classifier(x)[0]['label'])\n",
    "df['bert_score'] = df['text'].apply(lambda x: classifier(x)[0]['score'])\n",
    "\n",
    "print(df[['text', 'bert_sentiment', 'bert_score']].head())\n"
   ]
  },
  {
   "cell_type": "code",
   "execution_count": 19,
   "id": "380052db",
   "metadata": {},
   "outputs": [
    {
     "name": "stdout",
     "output_type": "stream",
     "text": [
      "2.19.0\n"
     ]
    }
   ],
   "source": [
    "import tensorflow as tf\n",
    "print(tf.__version__)  # For TensorFlow"
   ]
  },
  {
   "cell_type": "code",
   "execution_count": null,
   "id": "5a8035b3",
   "metadata": {},
   "outputs": [],
   "source": [
    "import pandas as pd\n",
    "from sklearn.preprocessing import LabelEncoder\n",
    "\n",
    "# Assume df has BERT sentiment columns already\n",
    "df['sentiment_numeric'] = df['bert_sentiment'].map({'NEGATIVE': -1, 'POSITIVE': 1})  # or 0 and 1\n",
    "\n",
    "# Encode 'company' if needed\n",
    "le = LabelEncoder()\n",
    "df['company_encoded'] = le.fit_transform(df['company'])\n",
    "\n",
    "# Final feature set\n",
    "features = df[['company_encoded', 'total_comments', 'total_replies',\n",
    "               'total_likes', 'sentiment_numeric', 'bert_score']]\n"
   ]
  },
  {
   "cell_type": "code",
   "execution_count": null,
   "id": "3ca72008",
   "metadata": {},
   "outputs": [],
   "source": [
    "from sklearn.cluster import KMeans\n",
    "from sklearn.preprocessing import StandardScaler\n",
    "\n",
    "# Normalize the data\n",
    "scaler = StandardScaler()\n",
    "X_scaled = scaler.fit_transform(features)\n",
    "\n",
    "# Cluster (let's say 3 segments)\n",
    "kmeans = KMeans(n_clusters=3, random_state=42)\n",
    "df['segment'] = kmeans.fit_predict(X_scaled)\n"
   ]
  }
 ],
 "metadata": {
  "kernelspec": {
   "display_name": "Python 3 (ipykernel)",
   "language": "python",
   "name": "python3"
  },
  "language_info": {
   "codemirror_mode": {
    "name": "ipython",
    "version": 3
   },
   "file_extension": ".py",
   "mimetype": "text/x-python",
   "name": "python",
   "nbconvert_exporter": "python",
   "pygments_lexer": "ipython3",
   "version": "3.9.13"
  }
 },
 "nbformat": 4,
 "nbformat_minor": 5
}

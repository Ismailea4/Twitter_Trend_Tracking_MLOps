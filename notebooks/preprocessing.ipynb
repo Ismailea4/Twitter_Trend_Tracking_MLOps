{
 "cells": [
  {
   "cell_type": "code",
   "execution_count": null,
   "id": "1b951a2e",
   "metadata": {},
   "outputs": [],
   "source": [
    "import pandas as pd\n",
    "import numpy as np\n",
    "import matplotlib.pyplot as plt\n",
    "import seaborn as sns\n",
    "\n",
    "# Optional: Set seaborn style for better visuals\n",
    "sns.set(style=\"whitegrid\")"
   ]
  },
  {
   "cell_type": "code",
   "execution_count": null,
   "id": "69131be2",
   "metadata": {},
   "outputs": [],
   "source": [
    "import os\n",
    "\n",
    "# Define the folder path\n",
    "folder_path = '../scraping/data_scraped/apple/2025-04-09'\n",
    "\n",
    "# Initialize an empty list to store dataframes\n",
    "dataframes = []\n",
    "\n",
    "# Loop through all files in the folder\n",
    "for file_name in os.listdir(folder_path):\n",
    "    if file_name.endswith('.csv'):\n",
    "        file_path = os.path.join(folder_path, file_name)\n",
    "        \n",
    "        # Read the CSV file\n",
    "        temp_df = pd.read_csv(file_path)\n",
    "        \n",
    "        # Add the is_main_tweet column\n",
    "        temp_df['is_main_tweet'] = [True] + [False] * (len(temp_df) - 1)\n",
    "        \n",
    "        # Append the dataframe to the list\n",
    "        dataframes.append(temp_df)\n",
    "\n",
    "# Concatenate all dataframes into one\n",
    "combined_df = pd.concat(dataframes, ignore_index=True)"
   ]
  },
  {
   "cell_type": "code",
   "execution_count": null,
   "id": "b36ebbec",
   "metadata": {},
   "outputs": [],
   "source": []
  }
 ],
 "metadata": {
  "language_info": {
   "name": "python"
  }
 },
 "nbformat": 4,
 "nbformat_minor": 5
}
